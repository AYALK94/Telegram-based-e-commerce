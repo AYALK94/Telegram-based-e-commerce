{
 "cells": [
  {
   "cell_type": "markdown",
   "metadata": {},
   "source": [
    "### Task 1: Data Ingestion and Data Preprocessing"
   ]
  },
  {
   "cell_type": "code",
   "execution_count": 3,
   "metadata": {},
   "outputs": [
    {
     "name": "stdout",
     "output_type": "stream",
     "text": [
      "Signed in successfully as AYALK94; remember to not break the ToS or you will risk an account ban!\n"
     ]
    }
   ],
   "source": [
    "import requests\n",
    "from telethon import TelegramClient\n",
    "import pandas as pd\n",
    "import re\n",
    "\n",
    "# Telegram API configuration\n",
    "api_id = 28162665\n",
    "api_hash = 'd5427ba01ae31a3a1c876f41e7e11d42'\n",
    "phone_number = '+251977951226'\n",
    "\n",
    "client = TelegramClient('session_name', api_id, api_hash)\n",
    "\n",
    "# Connect and fetch messages\n",
    "async def fetch_telegram_messages(channel_name, limit=100):\n",
    "    await client.start(phone_number)\n",
    "    async for message in client.iter_messages(channel_name, limit=limit):\n",
    "        if message.message:\n",
    "            yield {\n",
    "                'sender': message.sender_id,\n",
    "                'timestamp': message.date,\n",
    "                'message': message.message\n",
    "            }\n",
    "\n",
    "# Clean and preprocess Amharic messages\n",
    "def clean_amharic_text(text):\n",
    "    text = re.sub(r'\\s+', ' ', text)  # Remove extra spaces\n",
    "    return text.strip()\n",
    "\n",
    "# Dataframe creation\n",
    "channel_name = 'example_channel'\n",
    "messages = [msg async for msg in fetch_telegram_messages(channel_name, limit=500)]\n",
    "df = pd.DataFrame(messages)\n",
    "df['clean_message'] = df['message'].apply(clean_amharic_text)\n",
    "\n",
    "# Save preprocessed data\n",
    "df.to_csv('preprocessed_telegram_data.csv', index=False)\n"
   ]
  },
  {
   "cell_type": "code",
   "execution_count": null,
   "metadata": {},
   "outputs": [],
   "source": []
  },
  {
   "cell_type": "code",
   "execution_count": null,
   "metadata": {},
   "outputs": [],
   "source": []
  },
  {
   "cell_type": "code",
   "execution_count": null,
   "metadata": {},
   "outputs": [],
   "source": []
  }
 ],
 "metadata": {
  "kernelspec": {
   "display_name": "env",
   "language": "python",
   "name": "python3"
  },
  "language_info": {
   "codemirror_mode": {
    "name": "ipython",
    "version": 3
   },
   "file_extension": ".py",
   "mimetype": "text/x-python",
   "name": "python",
   "nbconvert_exporter": "python",
   "pygments_lexer": "ipython3",
   "version": "3.11.3"
  }
 },
 "nbformat": 4,
 "nbformat_minor": 2
}
