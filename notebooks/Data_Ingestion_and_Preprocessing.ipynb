{
 "cells": [
  {
   "cell_type": "code",
   "execution_count": null,
   "metadata": {},
   "outputs": [],
   "source": []
  },
  {
   "cell_type": "markdown",
   "metadata": {},
   "source": [
    "### Data Ingestion and Data Preprocessing"
   ]
  },
  {
   "cell_type": "code",
   "execution_count": 4,
   "metadata": {},
   "outputs": [
    {
     "name": "stdout",
     "output_type": "stream",
     "text": [
      "Fetching messages from @ZemenExpress...\n",
      "Fetching messages from @sinayelj...\n",
      "Fetching messages from @MerttEka...\n",
      "Fetching messages from @yebatochmregagroup...\n",
      "Fetching messages from @helloomarketethiopia...\n",
      "Fetching messages from @Leyueqa...\n",
      "Fetching messages from @kstoreaddis...\n",
      "Fetching messages from @Fashiontera...\n",
      "Messages have been saved to preprocessed_telegram_data.csv\n"
     ]
    }
   ],
   "source": [
    "import requests\n",
    "from telethon import TelegramClient\n",
    "import pandas as pd\n",
    "import re\n",
    "import nest_asyncio\n",
    "import asyncio\n",
    "\n",
    "# Apply nest_asyncio to allow nested event loops\n",
    "nest_asyncio.apply()\n",
    "\n",
    "# Telegram API configuration\n",
    "api_id = 28162665\n",
    "api_hash = 'd5427ba01ae31a3a1c876f41e7e11d42'\n",
    "phone_number = '+251977951226'\n",
    "\n",
    "# Initialize the Telegram client\n",
    "client = TelegramClient('session_name', api_id, api_hash)\n",
    "\n",
    "# List of e-commerce channels\n",
    "channels = [\n",
    "    '@ZemenExpress', '@sinayelj', '@MerttEka', '@yebatochmregagroup', '@helloomarketethiopia',\n",
    "    '@Leyueqa', '@kstoreaddis', '@Fashiontera'\n",
    "]\n",
    "\n",
    "# Connect and fetch messages from a single channel\n",
    "async def fetch_telegram_messages(channel_name, limit=100):\n",
    "    async for message in client.iter_messages(channel_name, limit=limit):\n",
    "        if message.message:\n",
    "            yield {\n",
    "                'sender': message.sender_id,\n",
    "                'timestamp': message.date,\n",
    "                'channel': channel_name,  # Add the channel name to the message data\n",
    "                'message': message.message\n",
    "            }\n",
    "\n",
    "# Clean and preprocess Amharic messages\n",
    "def clean_amharic_text(text):\n",
    "    text = re.sub(r'\\s+', ' ', text)  # Remove extra spaces\n",
    "    return text.strip()\n",
    "\n",
    "# Fetch messages from all channels\n",
    "async def fetch_from_multiple_channels(channels, limit=100):\n",
    "    all_messages = []\n",
    "    for channel in channels:\n",
    "        print(f\"Fetching messages from {channel}...\")\n",
    "        async for msg in fetch_telegram_messages(channel, limit=limit):\n",
    "            all_messages.append(msg)  # Add the messages from each channel to the main list\n",
    "    return all_messages\n",
    "\n",
    "# Main function to run the code\n",
    "async def main():\n",
    "    # Connect to Telegram using async with\n",
    "    async with client:\n",
    "        # Fetch messages from all channels\n",
    "        all_messages = await fetch_from_multiple_channels(channels, limit=500)\n",
    "        \n",
    "        # Create DataFrame and clean messages\n",
    "        df = pd.DataFrame(all_messages)\n",
    "        df['clean_message'] = df['message'].apply(clean_amharic_text)\n",
    "        \n",
    "        # Save preprocessed data to CSV\n",
    "        df.to_csv('preprocessed_telegram_data.csv', index=False)\n",
    "        print(\"Messages have been saved to preprocessed_telegram_data.csv\")\n",
    "\n",
    "# Run the main async function\n",
    "await main()\n"
   ]
  },
  {
   "cell_type": "code",
   "execution_count": null,
   "metadata": {},
   "outputs": [],
   "source": []
  },
  {
   "cell_type": "code",
   "execution_count": null,
   "metadata": {},
   "outputs": [],
   "source": []
  }
 ],
 "metadata": {
  "kernelspec": {
   "display_name": "env",
   "language": "python",
   "name": "python3"
  },
  "language_info": {
   "codemirror_mode": {
    "name": "ipython",
    "version": 3
   },
   "file_extension": ".py",
   "mimetype": "text/x-python",
   "name": "python",
   "nbconvert_exporter": "python",
   "pygments_lexer": "ipython3",
   "version": "3.11.3"
  }
 },
 "nbformat": 4,
 "nbformat_minor": 2
}
