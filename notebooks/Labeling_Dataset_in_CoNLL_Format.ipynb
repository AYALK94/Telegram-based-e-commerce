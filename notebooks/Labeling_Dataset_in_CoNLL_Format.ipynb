{
 "cells": [
  {
   "cell_type": "code",
   "execution_count": null,
   "metadata": {},
   "outputs": [],
   "source": []
  },
  {
   "cell_type": "code",
   "execution_count": 1,
   "metadata": {},
   "outputs": [],
   "source": [
    "import requests\n",
    "# from telethon import TelegramClient\n",
    "import pandas as pd\n",
    "import re\n",
    "# Load dataset and prepare for labeling\n",
    "df = pd.read_csv('preprocessed_telegram_data.csv')\n",
    "\n",
    "# Function to tokenize and label\n",
    "def label_entities(message):\n",
    "    # Manually labeled entities (example for the task)\n",
    "    tokens = message.split()\n",
    "    labels = []\n",
    "    for token in tokens:\n",
    "        if token in ['product_example', 'location_example']:\n",
    "            labels.append('B-PRODUCT' if token == 'product_example' else 'B-LOC')\n",
    "        else:\n",
    "            labels.append('O')\n",
    "    return tokens, labels\n",
    "\n",
    "# CoNLL format generation\n",
    "with open('amharic_ner_conll.txt', 'w') as f:\n",
    "    for _, row in df.iterrows():\n",
    "        tokens, labels = label_entities(row['clean_message'])\n",
    "        for token, label in zip(tokens, labels):\n",
    "            f.write(f\"{token}\\t{label}\\n\")\n",
    "        f.write(\"\\n\")  # Separate sentences\n"
   ]
  },
  {
   "cell_type": "code",
   "execution_count": 2,
   "metadata": {},
   "outputs": [
    {
     "name": "stdout",
     "output_type": "stream",
     "text": [
      "Labeled dataset saved in CoNLL format to amharic_ner_conll.txt\n"
     ]
    }
   ],
   "source": [
    "import pandas as pd\n",
    "\n",
    "# Load preprocessed dataset\n",
    "df = pd.read_csv('preprocessed_telegram_data.csv')\n",
    "\n",
    "# Define lists of sample products, locations, and price indicators\n",
    "# These lists should be manually populated based on the dataset\n",
    "product_list = ['ልጅ ማታለል', 'ካራቦ', 'የቤት ዕቃዎች']  # Example Amharic product names\n",
    "location_list = ['አዲስ አበባ', 'ቦሌ', 'ባህር ዳር']  # Example Amharic locations\n",
    "price_list = ['ብር', 'ዋጋ']  # Example price indicators\n",
    "\n",
    "# Function to tokenize and label entities\n",
    "def label_entities(message):\n",
    "    tokens = message.split()  # Tokenize the message by spaces\n",
    "    labels = []\n",
    "    \n",
    "    # Iterate over tokens and label each token\n",
    "    for token in tokens:\n",
    "        if token in product_list:\n",
    "            labels.append('B-PRODUCT')\n",
    "        elif any(price in token for price in price_list):\n",
    "            labels.append('B-PRICE')\n",
    "        elif token in location_list:\n",
    "            labels.append('B-LOC')\n",
    "        else:\n",
    "            labels.append('O')  # Label as 'O' for tokens that do not belong to any entity\n",
    "\n",
    "    return tokens, labels\n",
    "\n",
    "# CoNLL format generation\n",
    "output_file = 'amharic_ner_conll.txt'\n",
    "with open(output_file, 'w', encoding='utf-8') as f:\n",
    "    for _, row in df.iterrows():\n",
    "        tokens, labels = label_entities(row['clean_message'])\n",
    "        for token, label in zip(tokens, labels):\n",
    "            f.write(f\"{token}\\t{label}\\n\")\n",
    "        f.write(\"\\n\")  # Blank line to separate sentences/messages\n",
    "\n",
    "print(f\"Labeled dataset saved in CoNLL format to {output_file}\")\n"
   ]
  },
  {
   "cell_type": "code",
   "execution_count": 4,
   "metadata": {},
   "outputs": [
    {
     "name": "stdout",
     "output_type": "stream",
     "text": [
      "Labeled dataset saved in CoNLL format to amharic_ner_conll.txt\n"
     ]
    }
   ],
   "source": [
    "import pandas as pd\n",
    "import re\n",
    "\n",
    "# Load the dataset\n",
    "df = pd.read_csv('preprocessed_telegram_data.csv')\n",
    "\n",
    "# Example lists of known product names, locations, and price indicators\n",
    "product_list = ['ልጅ ማታለል', 'ካራቦ', 'የቤት ዕቃዎች']  # Expand this list based on actual data\n",
    "location_list = ['አዲስ አበባ', 'ቦሌ', 'ባህር ዳር']  # Expand this list based on actual data\n",
    "price_keywords = ['ብር', 'ዋጋ']  # Words indicating price\n",
    "price_pattern = r'\\d+[,.]?\\d*\\s?ብር'  # Pattern to match prices (e.g., \"1000 ብር\")\n",
    "\n",
    "# Function to label tokens in a message\n",
    "def label_entities(message):\n",
    "    tokens = message.split()\n",
    "    labels = []\n",
    "    \n",
    "    # Iterate over tokens\n",
    "    for i, token in enumerate(tokens):\n",
    "        if token in product_list:\n",
    "            labels.append('B-PRODUCT')\n",
    "        elif re.match(price_pattern, token) or any(price in token for price in price_keywords):\n",
    "            labels.append('B-PRICE')\n",
    "        elif token in location_list:\n",
    "            labels.append('B-LOC')\n",
    "        else:\n",
    "            labels.append('O')  # Outside any entity\n",
    "        \n",
    "        # Handle multi-word entities (example)\n",
    "        if i > 0 and labels[-1] == 'B-PRODUCT' and tokens[i-1] in product_list:\n",
    "            labels[-1] = 'I-PRODUCT'  # Label as inside a product entity\n",
    "        elif i > 0 and labels[-1] == 'B-LOC' and tokens[i-1] in location_list:\n",
    "            labels[-1] = 'I-LOC'  # Label as inside a location entity\n",
    "        elif i > 0 and labels[-1] == 'B-PRICE' and re.match(price_pattern, tokens[i-1]):\n",
    "            labels[-1] = 'I-PRICE'  # Label as inside a price entity\n",
    "\n",
    "    return tokens, labels\n",
    "\n",
    "# CoNLL format generation\n",
    "output_file = 'amharic_ner_conll.txt'\n",
    "with open(output_file, 'w', encoding='utf-8') as f:\n",
    "    for _, row in df.iterrows():\n",
    "        tokens, labels = label_entities(row['clean_message'])\n",
    "        for token, label in zip(tokens, labels):\n",
    "            f.write(f\"{token}\\t{label}\\n\")\n",
    "        f.write(\"\\n\")  # Blank line to separate each message\n",
    "\n",
    "print(f\"Labeled dataset saved in CoNLL format to {output_file}\")\n"
   ]
  },
  {
   "cell_type": "code",
   "execution_count": null,
   "metadata": {},
   "outputs": [],
   "source": []
  }
 ],
 "metadata": {
  "kernelspec": {
   "display_name": "env",
   "language": "python",
   "name": "python3"
  },
  "language_info": {
   "codemirror_mode": {
    "name": "ipython",
    "version": 3
   },
   "file_extension": ".py",
   "mimetype": "text/x-python",
   "name": "python",
   "nbconvert_exporter": "python",
   "pygments_lexer": "ipython3",
   "version": "3.11.3"
  }
 },
 "nbformat": 4,
 "nbformat_minor": 2
}
